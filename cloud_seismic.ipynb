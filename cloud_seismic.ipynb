{
 "cells": [
  {
   "cell_type": "markdown",
   "id": "145d095d-1e5e-4b29-a179-111f7fd06f97",
   "metadata": {},
   "source": [
    "# PDS Cloud Pilot Study: Moonquake detector"
   ]
  },
  {
   "cell_type": "code",
   "execution_count": null,
   "id": "19d05e2b-141b-4718-b5cf-d5659ea8c1c4",
   "metadata": {},
   "outputs": [],
   "source": [
    "# Import packages\n"
   ]
  },
  {
   "cell_type": "code",
   "execution_count": 6,
   "id": "bf68d254-70bc-41eb-8b79-0e4a82e4d2d4",
   "metadata": {},
   "outputs": [],
   "source": [
    "# Setup directories\n",
    "# Input data from the PDS geosciences node\n",
    "input_data = 'C:/data/PSE_seed/continuous_waveform/'\n",
    "rundir = 'C:/Users/fcivilin/OneDrive - NASA/codes/cloud_testcase/'"
   ]
  },
  {
   "cell_type": "code",
   "execution_count": null,
   "id": "032fca2c-bb95-44c7-90b9-616d9f0363da",
   "metadata": {},
   "outputs": [],
   "source": [
    "# For now, we will select a single file within our github directory for convenience\n",
    "testfile = f'{rundir}'"
   ]
  },
  {
   "cell_type": "code",
   "execution_count": null,
   "id": "783f64a1-8609-4115-bbbc-484dc18880b5",
   "metadata": {},
   "outputs": [],
   "source": [
    "# Test 1: Plot "
   ]
  }
 ],
 "metadata": {
  "kernelspec": {
   "display_name": "Python 3 (ipykernel)",
   "language": "python",
   "name": "python3"
  },
  "language_info": {
   "codemirror_mode": {
    "name": "ipython",
    "version": 3
   },
   "file_extension": ".py",
   "mimetype": "text/x-python",
   "name": "python",
   "nbconvert_exporter": "python",
   "pygments_lexer": "ipython3",
   "version": "3.9.19"
  }
 },
 "nbformat": 4,
 "nbformat_minor": 5
}
